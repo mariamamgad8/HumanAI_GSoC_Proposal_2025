{
  "nbformat": 4,
  "nbformat_minor": 0,
  "metadata": {
    "colab": {
      "provenance": [],
      "authorship_tag": "ABX9TyOyKu1NPT8jMyfIhIjF70oT",
      "include_colab_link": true
    },
    "kernelspec": {
      "name": "python3",
      "display_name": "Python 3"
    },
    "language_info": {
      "name": "python"
    }
  },
  "cells": [
    {
      "cell_type": "markdown",
      "metadata": {
        "id": "view-in-github",
        "colab_type": "text"
      },
      "source": [
        "<a href=\"https://colab.research.google.com/github/mariamamgad8/HumanAI_GSoC_Proposal_2025/blob/main/Task3.ipynb\" target=\"_parent\"><img src=\"https://colab.research.google.com/assets/colab-badge.svg\" alt=\"Open In Colab\"/></a>"
      ]
    },
    {
      "cell_type": "markdown",
      "source": [
        "# **geocoding posts and generating a heatmap of crisis discussions**"
      ],
      "metadata": {
        "id": "srsBmLMtnN0p"
      }
    },
    {
      "cell_type": "code",
      "execution_count": 6,
      "metadata": {
        "colab": {
          "base_uri": "https://localhost:8080/"
        },
        "id": "Q8yqhWtCb2Sr",
        "outputId": "d26f5f4d-471f-4e1b-99c7-0826a535e57e"
      },
      "outputs": [
        {
          "output_type": "stream",
          "name": "stdout",
          "text": [
            " No valid geocoded locations found to create heatmap.\n"
          ]
        }
      ],
      "source": [
        "import pandas as pd\n",
        "import folium\n",
        "from folium.plugins import HeatMap\n",
        "from geopy.geocoders import Nominatim\n",
        "import re\n",
        "import time\n",
        "\n",
        "# Load your CSV file (replace path if needed)\n",
        "df = pd.read_csv(\"/content/classified_tweets.csv\")  # Change path as needed\n",
        "\n",
        "# Basic regex to extract city/place names\n",
        "def extract_location_simple(text):\n",
        "    pattern = r\"\\b(?:in|at|from|near|around)\\s+([A-Z][a-z]+(?:\\s+[A-Z][a-z]+)?)\"\n",
        "    match = re.search(pattern, str(text))\n",
        "    return match.group(1) if match else None\n",
        "\n",
        "df[\"location_mention\"] = df[\"cleaned_text\"].apply(extract_location_simple)\n",
        "location_df = df.dropna(subset=[\"location_mention\"]).copy()\n",
        "\n",
        "# Geocode place names using geopy\n",
        "geolocator = Nominatim(user_agent=\"crisis_locator\", timeout=10)  # Added timeout\n",
        "\n",
        "def geocode_location(location):\n",
        "    try:\n",
        "        loc = geolocator.geocode(location)\n",
        "        time.sleep(1)  # Respect rate limits\n",
        "        if loc:\n",
        "            return (loc.latitude, loc.longitude)  # Return as a tuple\n",
        "        else:\n",
        "            return (None, None)  # Explicit return if no result\n",
        "    except Exception as e:\n",
        "        print(f\"Error geocoding '{location}': {e}\")\n",
        "        return (None, None)  # Ensure always returns a tuple\n",
        "\n",
        "# Step 1: Geocode and store results in a list\n",
        "geocoded_results = location_df[\"location_mention\"].apply(geocode_location).tolist()\n",
        "\n",
        "# Step 2: Assign to DataFrame\n",
        "location_df[\"latitude\"] = [lat for (lat, lon) in geocoded_results]\n",
        "location_df[\"longitude\"] = [lon for (lat, lon) in geocoded_results]\n",
        "\n",
        "# Create a heatmap only if we have valid locations\n",
        "if not location_df.empty:\n",
        "    heatmap_map = folium.Map(location=[20, 0], zoom_start=2)\n",
        "    heat_data = location_df[[\"latitude\", \"longitude\"]].values.tolist()\n",
        "    HeatMap(heat_data).add_to(heatmap_map)\n",
        "\n",
        "    # Save and show results\n",
        "    heatmap_map.save(\"crisis_heatmap_fallback.html\")\n",
        "    top_locations = location_df[\"location_mention\"].value_counts().head(5)\n",
        "    top_locations.to_csv(\"top_5_locations_fallback.csv\", header=[\"count\"])\n",
        "\n",
        "    print(\"Heatmap and top 5 locations saved!\")\n",
        "else:\n",
        "    print(\" No valid geocoded locations found to create heatmap.\")"
      ]
    }
  ]
}